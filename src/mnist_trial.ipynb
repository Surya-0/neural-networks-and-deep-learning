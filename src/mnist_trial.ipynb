{
 "cells": [
  {
   "cell_type": "code",
   "execution_count": 9,
   "metadata": {},
   "outputs": [],
   "source": [
    "import mnist_loader"
   ]
  },
  {
   "cell_type": "code",
   "execution_count": 10,
   "metadata": {},
   "outputs": [],
   "source": [
    "import network"
   ]
  },
  {
   "cell_type": "code",
   "execution_count": 11,
   "metadata": {},
   "outputs": [
    {
     "ename": "NameError",
     "evalue": "name 'cPickle' is not defined",
     "output_type": "error",
     "traceback": [
      "\u001b[0;31m---------------------------------------------------------------------------\u001b[0m",
      "\u001b[0;31mNameError\u001b[0m                                 Traceback (most recent call last)",
      "\u001b[1;32m/Users/surya/Documents/Surya/Artificial-Intelligence-codes/neural-networks-and-deep-learning/src/mnist_trial.ipynb Cell 3\u001b[0m line \u001b[0;36m1\n\u001b[0;32m----> <a href='vscode-notebook-cell:/Users/surya/Documents/Surya/Artificial-Intelligence-codes/neural-networks-and-deep-learning/src/mnist_trial.ipynb#W2sZmlsZQ%3D%3D?line=0'>1</a>\u001b[0m training_data,validation_data,test_data \u001b[39m=\u001b[39m mnist_loader\u001b[39m.\u001b[39mload_data_wrapper()\n\u001b[1;32m      <a href='vscode-notebook-cell:/Users/surya/Documents/Surya/Artificial-Intelligence-codes/neural-networks-and-deep-learning/src/mnist_trial.ipynb#W2sZmlsZQ%3D%3D?line=1'>2</a>\u001b[0m net \u001b[39m=\u001b[39m network\u001b[39m.\u001b[39mNetwork([\u001b[39m784\u001b[39m,\u001b[39m30\u001b[39m,\u001b[39m10\u001b[39m])\n",
      "File \u001b[0;32m~/Documents/Surya/Artificial-Intelligence-codes/neural-networks-and-deep-learning/src/mnist_loader.py:68\u001b[0m, in \u001b[0;36mload_data_wrapper\u001b[0;34m()\u001b[0m\n\u001b[1;32m     47\u001b[0m \u001b[39mdef\u001b[39;00m \u001b[39mload_data_wrapper\u001b[39m():\n\u001b[1;32m     48\u001b[0m \u001b[39m    \u001b[39m\u001b[39m\"\"\"Return a tuple containing ``(training_data, validation_data,\u001b[39;00m\n\u001b[1;32m     49\u001b[0m \u001b[39m    test_data)``. Based on ``load_data``, but the format is more\u001b[39;00m\n\u001b[1;32m     50\u001b[0m \u001b[39m    convenient for use in our implementation of neural networks.\u001b[39;00m\n\u001b[0;32m   (...)\u001b[0m\n\u001b[1;32m     66\u001b[0m \u001b[39m    turn out to be the most convenient for use in our neural network\u001b[39;00m\n\u001b[1;32m     67\u001b[0m \u001b[39m    code.\"\"\"\u001b[39;00m\n\u001b[0;32m---> 68\u001b[0m     tr_d, va_d, te_d \u001b[39m=\u001b[39m load_data()\n\u001b[1;32m     69\u001b[0m     training_inputs \u001b[39m=\u001b[39m [np\u001b[39m.\u001b[39mreshape(x, (\u001b[39m784\u001b[39m, \u001b[39m1\u001b[39m)) \u001b[39mfor\u001b[39;00m x \u001b[39min\u001b[39;00m tr_d[\u001b[39m0\u001b[39m]]\n\u001b[1;32m     70\u001b[0m     training_results \u001b[39m=\u001b[39m [vectorized_result(y) \u001b[39mfor\u001b[39;00m y \u001b[39min\u001b[39;00m tr_d[\u001b[39m1\u001b[39m]]\n",
      "File \u001b[0;32m~/Documents/Surya/Artificial-Intelligence-codes/neural-networks-and-deep-learning/src/mnist_loader.py:43\u001b[0m, in \u001b[0;36mload_data\u001b[0;34m()\u001b[0m\n\u001b[1;32m     20\u001b[0m \u001b[39m\u001b[39m\u001b[39m\"\"\"Return the MNIST data as a tuple containing the training data,\u001b[39;00m\n\u001b[1;32m     21\u001b[0m \u001b[39mthe validation data, and the test data.\u001b[39;00m\n\u001b[1;32m     22\u001b[0m \n\u001b[0;32m   (...)\u001b[0m\n\u001b[1;32m     40\u001b[0m \u001b[39mbelow.\u001b[39;00m\n\u001b[1;32m     41\u001b[0m \u001b[39m\"\"\"\u001b[39;00m\n\u001b[1;32m     42\u001b[0m f \u001b[39m=\u001b[39m gzip\u001b[39m.\u001b[39mopen(\u001b[39m'\u001b[39m\u001b[39m../data/mnist.pkl.gz\u001b[39m\u001b[39m'\u001b[39m, \u001b[39m'\u001b[39m\u001b[39mrb\u001b[39m\u001b[39m'\u001b[39m)\n\u001b[0;32m---> 43\u001b[0m training_data, validation_data, test_data \u001b[39m=\u001b[39m cPickle\u001b[39m.\u001b[39mload(f)\n\u001b[1;32m     44\u001b[0m f\u001b[39m.\u001b[39mclose()\n\u001b[1;32m     45\u001b[0m \u001b[39mreturn\u001b[39;00m (training_data, validation_data, test_data)\n",
      "\u001b[0;31mNameError\u001b[0m: name 'cPickle' is not defined"
     ]
    }
   ],
   "source": [
    "training_data,validation_data,test_data = mnist_loader.load_data_wrapper()\n",
    "net = network.Network([784,30,10])"
   ]
  },
  {
   "cell_type": "code",
   "execution_count": null,
   "metadata": {},
   "outputs": [],
   "source": []
  }
 ],
 "metadata": {
  "kernelspec": {
   "display_name": "tf",
   "language": "python",
   "name": "python3"
  },
  "language_info": {
   "codemirror_mode": {
    "name": "ipython",
    "version": 3
   },
   "file_extension": ".py",
   "mimetype": "text/x-python",
   "name": "python",
   "nbconvert_exporter": "python",
   "pygments_lexer": "ipython3",
   "version": "3.11.3"
  },
  "orig_nbformat": 4
 },
 "nbformat": 4,
 "nbformat_minor": 2
}
