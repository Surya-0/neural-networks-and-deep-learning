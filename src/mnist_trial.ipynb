{
 "cells": [
  {
   "cell_type": "code",
   "execution_count": 13,
   "metadata": {},
   "outputs": [],
   "source": [
    "import mnist_loader"
   ]
  },
  {
   "cell_type": "code",
   "execution_count": 14,
   "metadata": {},
   "outputs": [],
   "source": [
    "import network"
   ]
  },
  {
   "cell_type": "code",
   "execution_count": 15,
   "metadata": {},
   "outputs": [],
   "source": [
    "training_data,validation_data,test_data = mnist_loader.load_data_wrapper()\n",
    "net = network.Network([784,30,10])"
   ]
  },
  {
   "cell_type": "code",
   "execution_count": 16,
   "metadata": {},
   "outputs": [
    {
     "name": "stdout",
     "output_type": "stream",
     "text": [
      "<class 'list'>\n"
     ]
    }
   ],
   "source": [
    "print(type(training_data))\n"
   ]
  },
  {
   "cell_type": "code",
   "execution_count": 17,
   "metadata": {},
   "outputs": [
    {
     "name": "stdout",
     "output_type": "stream",
     "text": [
      "Epoch 0: 8922 / 10000\n",
      "Epoch 1: 9190 / 10000\n",
      "Epoch 2: 9286 / 10000\n",
      "Epoch 3: 9273 / 10000\n",
      "Epoch 4: 9309 / 10000\n",
      "Epoch 5: 9331 / 10000\n",
      "Epoch 6: 9373 / 10000\n",
      "Epoch 7: 9395 / 10000\n",
      "Epoch 8: 9411 / 10000\n",
      "Epoch 9: 9393 / 10000\n",
      "Epoch 10: 9421 / 10000\n",
      "Epoch 11: 9386 / 10000\n",
      "Epoch 12: 9438 / 10000\n",
      "Epoch 13: 9430 / 10000\n",
      "Epoch 14: 9443 / 10000\n",
      "Epoch 15: 9440 / 10000\n",
      "Epoch 16: 9467 / 10000\n",
      "Epoch 17: 9434 / 10000\n",
      "Epoch 18: 9463 / 10000\n",
      "Epoch 19: 9469 / 10000\n",
      "Epoch 20: 9476 / 10000\n",
      "Epoch 21: 9437 / 10000\n",
      "Epoch 22: 9433 / 10000\n",
      "Epoch 23: 9483 / 10000\n",
      "Epoch 24: 9463 / 10000\n",
      "Epoch 25: 9456 / 10000\n",
      "Epoch 26: 9467 / 10000\n",
      "Epoch 27: 9473 / 10000\n",
      "Epoch 28: 9457 / 10000\n",
      "Epoch 29: 9471 / 10000\n"
     ]
    }
   ],
   "source": [
    "net.SGD(training_data=training_data,epochs=30,mini_batch_size=10,eta=3.0,test_data=test_data)"
   ]
  },
  {
   "cell_type": "code",
   "execution_count": null,
   "metadata": {},
   "outputs": [],
   "source": []
  }
 ],
 "metadata": {
  "kernelspec": {
   "display_name": "tf",
   "language": "python",
   "name": "python3"
  },
  "language_info": {
   "codemirror_mode": {
    "name": "ipython",
    "version": 3
   },
   "file_extension": ".py",
   "mimetype": "text/x-python",
   "name": "python",
   "nbconvert_exporter": "python",
   "pygments_lexer": "ipython3",
   "version": "3.11.4"
  },
  "orig_nbformat": 4
 },
 "nbformat": 4,
 "nbformat_minor": 2
}
