{
 "cells": [
  {
   "cell_type": "code",
   "execution_count": 1,
   "metadata": {},
   "outputs": [],
   "source": [
    "import mnist_loader"
   ]
  },
  {
   "cell_type": "code",
   "execution_count": 2,
   "metadata": {},
   "outputs": [],
   "source": [
    "import network"
   ]
  },
  {
   "cell_type": "code",
   "execution_count": 3,
   "metadata": {},
   "outputs": [],
   "source": [
    "training_data,validation_data,test_data = mnist_loader.load_data_wrapper()\n",
    "net = network.Network([784,30,10])"
   ]
  },
  {
   "cell_type": "code",
   "execution_count": 4,
   "metadata": {},
   "outputs": [
    {
     "name": "stdout",
     "output_type": "stream",
     "text": [
      "Epoch 0: 9081 / 10000\n",
      "Epoch 1: 9234 / 10000\n",
      "Epoch 2: 9284 / 10000\n",
      "Epoch 3: 9339 / 10000\n",
      "Epoch 4: 9363 / 10000\n",
      "Epoch 5: 9397 / 10000\n",
      "Epoch 6: 9408 / 10000\n",
      "Epoch 7: 9403 / 10000\n",
      "Epoch 8: 9437 / 10000\n",
      "Epoch 9: 9475 / 10000\n",
      "Epoch 10: 9474 / 10000\n",
      "Epoch 11: 9488 / 10000\n",
      "Epoch 12: 9493 / 10000\n",
      "Epoch 13: 9510 / 10000\n",
      "Epoch 14: 9511 / 10000\n",
      "Epoch 15: 9518 / 10000\n",
      "Epoch 16: 9512 / 10000\n",
      "Epoch 17: 9506 / 10000\n",
      "Epoch 18: 9495 / 10000\n",
      "Epoch 19: 9492 / 10000\n",
      "Epoch 20: 9507 / 10000\n",
      "Epoch 21: 9502 / 10000\n",
      "Epoch 22: 9523 / 10000\n",
      "Epoch 23: 9502 / 10000\n",
      "Epoch 24: 9508 / 10000\n",
      "Epoch 25: 9504 / 10000\n",
      "Epoch 26: 9505 / 10000\n",
      "Epoch 27: 9519 / 10000\n",
      "Epoch 28: 9532 / 10000\n",
      "Epoch 29: 9484 / 10000\n"
     ]
    }
   ],
   "source": [
    "net.SGD(training_data=training_data,epochs=30,mini_batch_size=10,eta=3.0,test_data=test_data)"
   ]
  },
  {
   "cell_type": "code",
   "execution_count": null,
   "metadata": {},
   "outputs": [],
   "source": []
  }
 ],
 "metadata": {
  "kernelspec": {
   "display_name": "tf",
   "language": "python",
   "name": "python3"
  },
  "language_info": {
   "codemirror_mode": {
    "name": "ipython",
    "version": 3
   },
   "file_extension": ".py",
   "mimetype": "text/x-python",
   "name": "python",
   "nbconvert_exporter": "python",
   "pygments_lexer": "ipython3",
   "version": "3.11.4"
  },
  "orig_nbformat": 4
 },
 "nbformat": 4,
 "nbformat_minor": 2
}
