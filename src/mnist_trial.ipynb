{
 "cells": [
  {
   "cell_type": "code",
   "execution_count": 9,
   "metadata": {},
   "outputs": [],
   "source": [
    "import mnist_loader"
   ]
  },
  {
   "cell_type": "code",
   "execution_count": 10,
   "metadata": {},
   "outputs": [],
   "source": [
    "import network"
   ]
  },
  {
   "cell_type": "code",
   "execution_count": 11,
   "metadata": {},
   "outputs": [],
   "source": [
    "training_data,validation_data,test_data = mnist_loader.load_data_wrapper()\n",
    "net = network.Network([784,30,10])"
   ]
  },
  {
   "cell_type": "code",
   "execution_count": 12,
   "metadata": {},
   "outputs": [
    {
     "name": "stdout",
     "output_type": "stream",
     "text": [
      "<class 'list'>\n"
     ]
    },
    {
     "ename": "AttributeError",
     "evalue": "'list' object has no attribute 'shape'",
     "output_type": "error",
     "traceback": [
      "\u001b[0;31m---------------------------------------------------------------------------\u001b[0m",
      "\u001b[0;31mAttributeError\u001b[0m                            Traceback (most recent call last)",
      "\u001b[1;32m/Users/surya/Documents/Surya/Artificial-Intelligence-codes/neural-networks-and-deep-learning/src/mnist_trial.ipynb Cell 4\u001b[0m line \u001b[0;36m2\n\u001b[1;32m      <a href='vscode-notebook-cell:/Users/surya/Documents/Surya/Artificial-Intelligence-codes/neural-networks-and-deep-learning/src/mnist_trial.ipynb#W5sZmlsZQ%3D%3D?line=0'>1</a>\u001b[0m \u001b[39mprint\u001b[39m(\u001b[39mtype\u001b[39m(training_data))\n\u001b[0;32m----> <a href='vscode-notebook-cell:/Users/surya/Documents/Surya/Artificial-Intelligence-codes/neural-networks-and-deep-learning/src/mnist_trial.ipynb#W5sZmlsZQ%3D%3D?line=1'>2</a>\u001b[0m \u001b[39mprint\u001b[39m(training_data\u001b[39m.\u001b[39mshape)\n",
      "\u001b[0;31mAttributeError\u001b[0m: 'list' object has no attribute 'shape'"
     ]
    }
   ],
   "source": [
    "print(type(training_data))\n"
   ]
  },
  {
   "cell_type": "code",
   "execution_count": null,
   "metadata": {},
   "outputs": [
    {
     "name": "stdout",
     "output_type": "stream",
     "text": [
      "Epoch 0: 9033 / 10000\n",
      "Epoch 1: 9167 / 10000\n",
      "Epoch 2: 9297 / 10000\n"
     ]
    },
    {
     "ename": "KeyboardInterrupt",
     "evalue": "",
     "output_type": "error",
     "traceback": [
      "\u001b[0;31m---------------------------------------------------------------------------\u001b[0m",
      "\u001b[0;31mKeyboardInterrupt\u001b[0m                         Traceback (most recent call last)",
      "\u001b[1;32m/Users/surya/Documents/Surya/Artificial-Intelligence-codes/neural-networks-and-deep-learning/src/mnist_trial.ipynb Cell 5\u001b[0m line \u001b[0;36m1\n\u001b[0;32m----> <a href='vscode-notebook-cell:/Users/surya/Documents/Surya/Artificial-Intelligence-codes/neural-networks-and-deep-learning/src/mnist_trial.ipynb#W3sZmlsZQ%3D%3D?line=0'>1</a>\u001b[0m net\u001b[39m.\u001b[39mSGD(training_data\u001b[39m=\u001b[39mtraining_data,epochs\u001b[39m=\u001b[39m\u001b[39m30\u001b[39m,mini_batch_size\u001b[39m=\u001b[39m\u001b[39m10\u001b[39m,eta\u001b[39m=\u001b[39m\u001b[39m3.0\u001b[39m,test_data\u001b[39m=\u001b[39mtest_data)\n",
      "File \u001b[0;32m~/Documents/Surya/Artificial-Intelligence-codes/neural-networks-and-deep-learning/src/network.py:62\u001b[0m, in \u001b[0;36mNetwork.SGD\u001b[0;34m(self, training_data, epochs, mini_batch_size, eta, test_data)\u001b[0m\n\u001b[1;32m     58\u001b[0m mini_batches \u001b[39m=\u001b[39m [\n\u001b[1;32m     59\u001b[0m     training_data[k:k\u001b[39m+\u001b[39mmini_batch_size]\n\u001b[1;32m     60\u001b[0m     \u001b[39mfor\u001b[39;00m k \u001b[39min\u001b[39;00m \u001b[39mrange\u001b[39m(\u001b[39m0\u001b[39m, n, mini_batch_size)]\n\u001b[1;32m     61\u001b[0m \u001b[39mfor\u001b[39;00m mini_batch \u001b[39min\u001b[39;00m mini_batches:\n\u001b[0;32m---> 62\u001b[0m     \u001b[39mself\u001b[39m\u001b[39m.\u001b[39mupdate_mini_batch(mini_batch, eta)\n\u001b[1;32m     63\u001b[0m \u001b[39mif\u001b[39;00m test_data:\n\u001b[1;32m     64\u001b[0m     \u001b[39mprint\u001b[39m (\u001b[39m\"\u001b[39m\u001b[39mEpoch \u001b[39m\u001b[39m{0}\u001b[39;00m\u001b[39m: \u001b[39m\u001b[39m{1}\u001b[39;00m\u001b[39m / \u001b[39m\u001b[39m{2}\u001b[39;00m\u001b[39m\"\u001b[39m\u001b[39m.\u001b[39mformat(\n\u001b[1;32m     65\u001b[0m         j, \u001b[39mself\u001b[39m\u001b[39m.\u001b[39mevaluate(test_data), n_test))\n",
      "File \u001b[0;32m~/Documents/Surya/Artificial-Intelligence-codes/neural-networks-and-deep-learning/src/network.py:77\u001b[0m, in \u001b[0;36mNetwork.update_mini_batch\u001b[0;34m(self, mini_batch, eta)\u001b[0m\n\u001b[1;32m     75\u001b[0m nabla_w \u001b[39m=\u001b[39m [np\u001b[39m.\u001b[39mzeros(w\u001b[39m.\u001b[39mshape) \u001b[39mfor\u001b[39;00m w \u001b[39min\u001b[39;00m \u001b[39mself\u001b[39m\u001b[39m.\u001b[39mweights]\n\u001b[1;32m     76\u001b[0m \u001b[39mfor\u001b[39;00m x, y \u001b[39min\u001b[39;00m mini_batch:\n\u001b[0;32m---> 77\u001b[0m     delta_nabla_b, delta_nabla_w \u001b[39m=\u001b[39m \u001b[39mself\u001b[39m\u001b[39m.\u001b[39mbackprop(x, y)\n\u001b[1;32m     78\u001b[0m     nabla_b \u001b[39m=\u001b[39m [nb\u001b[39m+\u001b[39mdnb \u001b[39mfor\u001b[39;00m nb, dnb \u001b[39min\u001b[39;00m \u001b[39mzip\u001b[39m(nabla_b, delta_nabla_b)]\n\u001b[1;32m     79\u001b[0m     nabla_w \u001b[39m=\u001b[39m [nw\u001b[39m+\u001b[39mdnw \u001b[39mfor\u001b[39;00m nw, dnw \u001b[39min\u001b[39;00m \u001b[39mzip\u001b[39m(nabla_w, delta_nabla_w)]\n",
      "File \u001b[0;32m~/Documents/Surya/Artificial-Intelligence-codes/neural-networks-and-deep-learning/src/network.py:97\u001b[0m, in \u001b[0;36mNetwork.backprop\u001b[0;34m(self, x, y)\u001b[0m\n\u001b[1;32m     95\u001b[0m zs \u001b[39m=\u001b[39m [] \u001b[39m# list to store all the z vectors, layer by layer\u001b[39;00m\n\u001b[1;32m     96\u001b[0m \u001b[39mfor\u001b[39;00m b, w \u001b[39min\u001b[39;00m \u001b[39mzip\u001b[39m(\u001b[39mself\u001b[39m\u001b[39m.\u001b[39mbiases, \u001b[39mself\u001b[39m\u001b[39m.\u001b[39mweights):\n\u001b[0;32m---> 97\u001b[0m     z \u001b[39m=\u001b[39m np\u001b[39m.\u001b[39mdot(w, activation)\u001b[39m+\u001b[39mb\n\u001b[1;32m     98\u001b[0m     zs\u001b[39m.\u001b[39mappend(z)\n\u001b[1;32m     99\u001b[0m     activation \u001b[39m=\u001b[39m sigmoid(z)\n",
      "File \u001b[0;32m<__array_function__ internals>:180\u001b[0m, in \u001b[0;36mdot\u001b[0;34m(*args, **kwargs)\u001b[0m\n",
      "\u001b[0;31mKeyboardInterrupt\u001b[0m: "
     ]
    }
   ],
   "source": [
    "net.SGD(training_data=training_data,epochs=30,mini_batch_size=10,eta=3.0,test_data=test_data)"
   ]
  },
  {
   "cell_type": "code",
   "execution_count": null,
   "metadata": {},
   "outputs": [],
   "source": []
  }
 ],
 "metadata": {
  "kernelspec": {
   "display_name": "tf",
   "language": "python",
   "name": "python3"
  },
  "language_info": {
   "codemirror_mode": {
    "name": "ipython",
    "version": 3
   },
   "file_extension": ".py",
   "mimetype": "text/x-python",
   "name": "python",
   "nbconvert_exporter": "python",
   "pygments_lexer": "ipython3",
   "version": "3.11.4"
  },
  "orig_nbformat": 4
 },
 "nbformat": 4,
 "nbformat_minor": 2
}
